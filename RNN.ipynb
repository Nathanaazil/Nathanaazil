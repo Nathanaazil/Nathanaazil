{
 "cells": [
  {
   "cell_type": "code",
   "execution_count": 1,
   "id": "304336a8",
   "metadata": {},
   "outputs": [],
   "source": [
    "import numpy as np\n",
    "from keras.datasets import imdb\n",
    "from keras.models import Sequential\n",
    "from keras.layers import Dense, Embedding, SimpleRNN\n",
    "from keras.preprocessing import sequence\n",
    "from tensorflow.keras.preprocessing.sequence import pad_sequences"
   ]
  },
  {
   "cell_type": "code",
   "execution_count": 2,
   "id": "ee0a6a35",
   "metadata": {},
   "outputs": [
    {
     "name": "stdout",
     "output_type": "stream",
     "text": [
      "Downloading data from https://storage.googleapis.com/tensorflow/tf-keras-datasets/imdb.npz\n",
      "17464789/17464789 [==============================] - 3s 0us/step\n"
     ]
    }
   ],
   "source": [
    "(x_train, y_train), (x_test, y_test) = imdb.load_data(num_words=10000)"
   ]
  },
  {
   "cell_type": "code",
   "execution_count": 3,
   "id": "23888c9e",
   "metadata": {},
   "outputs": [],
   "source": [
    "max_review_length = 500\n",
    "x_train = pad_sequences(x_train, maxlen=max_review_length)\n",
    "x_test = pad_sequences(x_test, maxlen=max_review_length)"
   ]
  },
  {
   "cell_type": "code",
   "execution_count": 5,
   "id": "9ddc6b50",
   "metadata": {},
   "outputs": [
    {
     "name": "stdout",
     "output_type": "stream",
     "text": [
      "Epoch 1/5\n",
      "391/391 [==============================] - 272s 669ms/step - loss: 0.6150 - accuracy: 0.6616\n",
      "Epoch 2/5\n",
      "391/391 [==============================] - 310s 792ms/step - loss: 0.4712 - accuracy: 0.7914\n",
      "Epoch 3/5\n",
      "391/391 [==============================] - 247s 632ms/step - loss: 0.3048 - accuracy: 0.8767\n",
      "Epoch 4/5\n",
      "391/391 [==============================] - 304s 778ms/step - loss: 0.1955 - accuracy: 0.9283\n",
      "Epoch 5/5\n",
      "391/391 [==============================] - 282s 723ms/step - loss: 0.1028 - accuracy: 0.9672\n"
     ]
    },
    {
     "data": {
      "text/plain": [
       "<keras.callbacks.History at 0x242a1171e80>"
      ]
     },
     "execution_count": 5,
     "metadata": {},
     "output_type": "execute_result"
    }
   ],
   "source": [
    "model=Sequential()\n",
    "model.add(Embedding(10000, 32))\n",
    "model.add(SimpleRNN(32))\n",
    "model.add(Dense(1, activation='sigmoid'))\n",
    "model.compile(loss='binary_crossentropy', optimizer='adam', metrics=['accuracy'])\n",
    "model.fit(x_train, y_train, epochs=5, batch_size=64)"
   ]
  },
  {
   "cell_type": "code",
   "execution_count": null,
   "id": "043cdf83",
   "metadata": {},
   "outputs": [
    {
     "name": "stdout",
     "output_type": "stream",
     "text": [
      "780/782 [============================>.] - ETA: 0s - loss: 0.4840 - accuracy: 0.8270"
     ]
    }
   ],
   "source": [
    "test_loss, test_acc = model.evaluate(x_test, y_test)\n",
    "print('Test accuracy:', test_acc)"
   ]
  },
  {
   "cell_type": "code",
   "execution_count": null,
   "id": "16b50cd1",
   "metadata": {},
   "outputs": [],
   "source": [
    "pred = model.predict(x_test)"
   ]
  },
  {
   "cell_type": "code",
   "execution_count": null,
   "id": "c7005fd6",
   "metadata": {},
   "outputs": [],
   "source": [
    " def review(x):\n",
    "     word_index = imdb.get_word_index()\n",
    "     reverse_word_index = dict([(value, key) for (key, value) in word_index.items()])\n",
    "     decoded_review = ' '.join([reverse_word_index.get(i - 3, '?') for i in x])\n",
    "     print(decoded_review)\n",
    "\n",
    "     if pred[0]>.5:\n",
    "         print('positive')\n",
    "     else:\n",
    "         print('negative')\n",
    "         review(x_test[60])"
   ]
  },
  {
   "cell_type": "code",
   "execution_count": null,
   "id": "c09e17e7",
   "metadata": {},
   "outputs": [],
   "source": []
  }
 ],
 "metadata": {
  "kernelspec": {
   "display_name": "Python 3 (ipykernel)",
   "language": "python",
   "name": "python3"
  },
  "language_info": {
   "codemirror_mode": {
    "name": "ipython",
    "version": 3
   },
   "file_extension": ".py",
   "mimetype": "text/x-python",
   "name": "python",
   "nbconvert_exporter": "python",
   "pygments_lexer": "ipython3",
   "version": "3.9.13"
  }
 },
 "nbformat": 4,
 "nbformat_minor": 5
}
